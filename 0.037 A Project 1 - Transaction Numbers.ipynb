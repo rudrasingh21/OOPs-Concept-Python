{
 "cells": [
  {
   "cell_type": "markdown",
   "metadata": {},
   "source": [
    "### Project 1: Transaction Numbers"
   ]
  },
  {
   "cell_type": "markdown",
   "metadata": {},
   "source": [
    "Next I want something for the transaction ID logic.\n",
    "\n",
    "Basically, we just need an initialized counter that returns the next value every time it is called.\n",
    "\n",
    "We have different ways of doing this - since this is an OOP course, you might be tempted to jump straight into a class implementation for this.\n",
    "\n",
    "We could do it this way:"
   ]
  },
  {
   "cell_type": "code",
   "execution_count": 1,
   "metadata": {},
   "outputs": [],
   "source": [
    "class TransactionID:\n",
    "    def __init__(self, start_id):\n",
    "        self._start_id = start_id\n",
    "        \n",
    "    def next(self):\n",
    "        self._start_id += 1\n",
    "        return self._start_id"
   ]
  },
  {
   "cell_type": "markdown",
   "metadata": {},
   "source": [
    "We could then use an instance of this class as a class attribute for `Account` thusly:"
   ]
  },
  {
   "cell_type": "code",
   "execution_count": 2,
   "metadata": {},
   "outputs": [],
   "source": [
    "class Account:\n",
    "    transaction_counter = TransactionID(100)\n",
    "    \n",
    "    def make_transaction(self):\n",
    "        new_trans_id = Account.transaction_counter.next()\n",
    "        return new_trans_id"
   ]
  },
  {
   "cell_type": "code",
   "execution_count": 3,
   "metadata": {},
   "outputs": [
    {
     "name": "stdout",
     "output_type": "stream",
     "text": [
      "101\n",
      "102\n",
      "103\n"
     ]
    }
   ],
   "source": [
    "a1 = Account()\n",
    "a2 = Account()\n",
    "\n",
    "print(a1.make_transaction())\n",
    "print(a2.make_transaction())\n",
    "print(a1.make_transaction())"
   ]
  },
  {
   "cell_type": "markdown",
   "metadata": {},
   "source": [
    "So, that works just fine, but if we think about this a bit more, we should see that we really do not need a class to solve this particular problem. We could even implement the iterator protocol for this class (implementing `__iter__` and `__next__`), but a simple infinite generator will work just as well.\n",
    "\n",
    "So moral of the story here, don't just jump into solving every problem using classes - this isn't Java, we don't need a class for everything!"
   ]
  },
  {
   "cell_type": "markdown",
   "metadata": {},
   "source": [
    "Instead, I'm going to implement it this way:"
   ]
  },
  {
   "cell_type": "code",
   "execution_count": 4,
   "metadata": {},
   "outputs": [],
   "source": [
    "def transaction_ids(start_id):\n",
    "    while True:\n",
    "        start_id += 1\n",
    "        yield start_id"
   ]
  },
  {
   "cell_type": "markdown",
   "metadata": {},
   "source": [
    "So we can use it this way:"
   ]
  },
  {
   "cell_type": "code",
   "execution_count": 5,
   "metadata": {},
   "outputs": [],
   "source": [
    "class Account:\n",
    "    transaction_counter = transaction_ids(100)\n",
    "    \n",
    "    def make_transaction(self):\n",
    "        new_trans_id = next(Account.transaction_counter)\n",
    "        return new_trans_id"
   ]
  },
  {
   "cell_type": "code",
   "execution_count": 6,
   "metadata": {},
   "outputs": [
    {
     "name": "stdout",
     "output_type": "stream",
     "text": [
      "101\n",
      "102\n",
      "103\n"
     ]
    }
   ],
   "source": [
    "a1 = Account()\n",
    "a2 = Account()\n",
    "\n",
    "print(a1.make_transaction())\n",
    "print(a2.make_transaction())\n",
    "print(a1.make_transaction())"
   ]
  },
  {
   "cell_type": "markdown",
   "metadata": {},
   "source": [
    "So this works equally well, but if we recall the `counter` method in the `itertools` module, we can simplify this even further:"
   ]
  },
  {
   "cell_type": "code",
   "execution_count": 7,
   "metadata": {},
   "outputs": [],
   "source": [
    "import itertools\n",
    "\n",
    "class Account:\n",
    "    transaction_counter = itertools.count(100)\n",
    "    \n",
    "    def make_transaction(self):\n",
    "        new_trans_id = next(Account.transaction_counter)\n",
    "        return new_trans_id"
   ]
  },
  {
   "cell_type": "code",
   "execution_count": 8,
   "metadata": {},
   "outputs": [
    {
     "name": "stdout",
     "output_type": "stream",
     "text": [
      "100\n",
      "101\n",
      "102\n"
     ]
    }
   ],
   "source": [
    "a1 = Account()\n",
    "a2 = Account()\n",
    "\n",
    "print(a1.make_transaction())\n",
    "print(a2.make_transaction())\n",
    "print(a1.make_transaction())"
   ]
  },
  {
   "cell_type": "code",
   "execution_count": null,
   "metadata": {},
   "outputs": [],
   "source": []
  }
 ],
 "metadata": {
  "kernelspec": {
   "display_name": "Python 3",
   "language": "python",
   "name": "python3"
  },
  "language_info": {
   "codemirror_mode": {
    "name": "ipython",
    "version": 3
   },
   "file_extension": ".py",
   "mimetype": "text/x-python",
   "name": "python",
   "nbconvert_exporter": "python",
   "pygments_lexer": "ipython3",
   "version": "3.6.7"
  }
 },
 "nbformat": 4,
 "nbformat_minor": 2
}
